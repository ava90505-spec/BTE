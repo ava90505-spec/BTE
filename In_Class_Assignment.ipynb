{
  "nbformat": 4,
  "nbformat_minor": 0,
  "metadata": {
    "colab": {
      "provenance": [],
      "authorship_tag": "ABX9TyO1Dyua3pblYlIQP+fx83y8",
      "include_colab_link": true
    },
    "kernelspec": {
      "name": "python3",
      "display_name": "Python 3"
    },
    "language_info": {
      "name": "python"
    }
  },
  "cells": [
    {
      "cell_type": "markdown",
      "metadata": {
        "id": "view-in-github",
        "colab_type": "text"
      },
      "source": [
        "<a href=\"https://colab.research.google.com/github/ava90505-spec/BTE/blob/main/In_Class_Assignment.ipynb\" target=\"_parent\"><img src=\"https://colab.research.google.com/assets/colab-badge.svg\" alt=\"Open In Colab\"/></a>"
      ]
    },
    {
      "cell_type": "code",
      "execution_count": null,
      "metadata": {
        "colab": {
          "base_uri": "https://localhost:8080/"
        },
        "id": "YKRLqJ07-dzT",
        "outputId": "38f4d402-4534-42a6-c5c7-7bd90b46eaa6"
      },
      "outputs": [
        {
          "name": "stdout",
          "output_type": "stream",
          "text": [
            "Enter sales amount: 12000.0\n"
          ]
        }
      ],
      "source": [
        "sales = float(input(\"Enter sales amount: \"))"
      ]
    },
    {
      "cell_type": "code",
      "source": [],
      "metadata": {
        "id": "Y28V0lt6n-J5"
      },
      "execution_count": null,
      "outputs": []
    },
    {
      "cell_type": "code",
      "source": [
        "cogs = sales * 0.40"
      ],
      "metadata": {
        "id": "pptj1iw5AmJ9"
      },
      "execution_count": null,
      "outputs": []
    },
    {
      "cell_type": "code",
      "source": [
        "gross_profit = sales - cogs"
      ],
      "metadata": {
        "id": "b4d6ImNkAvdM"
      },
      "execution_count": null,
      "outputs": []
    },
    {
      "cell_type": "code",
      "source": [
        "print(f\"Sales: ${sales:,.1f}\")\n",
        "print(f\"Cost of Goods Sold: ${cogs:,.1f}\")\n",
        "print(f\"Gross Profit: ${gross_profit:,.1f}\")"
      ],
      "metadata": {
        "colab": {
          "base_uri": "https://localhost:8080/"
        },
        "id": "Y91obYLvAx3q",
        "outputId": "6371686e-aa7d-42a3-faa3-b5a43fd40023"
      },
      "execution_count": null,
      "outputs": [
        {
          "output_type": "stream",
          "name": "stdout",
          "text": [
            "Sales: $12,000.0\n",
            "Cost of Goods Sold: $4,800.0\n",
            "Gross Profit: $7,200.0\n"
          ]
        }
      ]
    },
    {
      "cell_type": "code",
      "source": [
        "# Inputs: sales ($) and cogs (%)\n",
        "sales = input(\"Enter sales ($): \")\n",
        "# want sales to be numerical, not a string\n",
        "sales = float(sales)\n",
        "\n",
        "cogs_pct = input(\"Enter Cost of Goods (%): \")\n",
        "cogs_pct = float(cogs_pct)\n",
        "\n",
        "# Processes: calculate cost of goods sold and gross profit\n",
        "cogs = sales * (cogs_pct/100)\n",
        "grossprofit = sales - cogs\n",
        "\n",
        "# Outputs: display cogs and gross profit\n",
        "print(f\"Cost of Goods Sold: ${cogs}\")\n",
        "print(f\"Gross Profit: ${grossprofit}\")"
      ],
      "metadata": {
        "colab": {
          "base_uri": "https://localhost:8080/"
        },
        "id": "ULCKJlQ_CAGq",
        "outputId": "16d7c641-cd19-4cde-9a53-13c52b17da57"
      },
      "execution_count": null,
      "outputs": [
        {
          "output_type": "stream",
          "name": "stdout",
          "text": [
            "Enter sales ($): 12000\n",
            "Enter Cost of Goods (%): 40\n",
            "Cost of Goods Sold: $4800.0\n",
            "Gross Profit: $7200.0\n"
          ]
        }
      ]
    },
    {
      "cell_type": "markdown",
      "source": [
        "Enhance your program ot calculate Taxes and Net Income\n",
        "\n",
        "1. Input Tax Rate\n",
        "\n",
        "Taxes = gross profit * tax rate &\n",
        "Net Income = gross profit - taxes"
      ],
      "metadata": {
        "id": "EmmAzG0sEuAW"
      }
    },
    {
      "cell_type": "code",
      "source": [
        "# Inputs: sales ($) and cogs (%)\n",
        "sales = input(\"Enter sales ($): \")\n",
        "# want sales to be numerical, not a string so you do:\n",
        "sales = float(sales)\n",
        "\n",
        "cogs_pct = input(\"Enter Cost of Goods (%): \")\n",
        "cogs_pct = float(cogs_pct)\n",
        "\n",
        "tax_rate = input(\"Enter Tax Rate (%): \")\n",
        "tax_rate = float(tax_rate)\n",
        "\n",
        "# Processes: calculate cost of goods sold and gross profit\n",
        "cogs = sales * (cogs_pct/100)\n",
        "grossprofit = sales - cogs\n",
        "taxes = grossprofit * tax_rate/100\n",
        "netincome = grossprofit - taxes\n",
        "\n",
        "# Outputs: display cogs and gross profit\n",
        "print(f\"Cost of Goods Sold: ${cogs}\")\n",
        "print(f\"Gross Profit: ${grossprofit}\")\n",
        "print(f\"Taxes: ${taxes}\")\n",
        "print(f\"Net Income: ${netincome}\")\n"
      ],
      "metadata": {
        "colab": {
          "base_uri": "https://localhost:8080/"
        },
        "id": "p0HIe1CGEzRk",
        "outputId": "9ce3b887-d402-499c-ee81-8e57b52e512e"
      },
      "execution_count": null,
      "outputs": [
        {
          "output_type": "stream",
          "name": "stdout",
          "text": [
            "Enter sales ($): 12000\n",
            "Enter Cost of Goods (%): 40\n",
            "Enter Tax Rate (%): 30\n",
            "Cost of Goods Sold: $4800.0\n",
            "Gross Profit: $7200.0\n",
            "Taxes: $2160.0\n",
            "Net Income: $5040.0\n"
          ]
        }
      ]
    },
    {
      "cell_type": "code",
      "source": [
        "#Inputs\n",
        "D = int(input(\"Enter annual demand (units/year): \"))\n",
        "S = float(input(\"Enter reorder cost ($/order): \"))\n",
        "H = float(input(\"Enter holding cost ($/unit/year): \"))\n",
        "\n",
        "#Processes\n",
        "EOQ = ((2*D*S/H)**(.5))\n",
        "\n",
        "#Outputs\n",
        "print(f\"EOQ: {EOQ} units\")"
      ],
      "metadata": {
        "colab": {
          "base_uri": "https://localhost:8080/"
        },
        "collapsed": true,
        "id": "2FJNnVIpoAix",
        "outputId": "cd35cba4-0a57-4fd6-ecbb-458689088328"
      },
      "execution_count": 3,
      "outputs": [
        {
          "output_type": "stream",
          "name": "stdout",
          "text": [
            "Enter annual demand (units/year): 1000\n",
            "Enter reorder cost ($/order): 50\n",
            "Enter holding cost ($/unit/year): 10\n",
            "EOQ: 100.0 units\n"
          ]
        }
      ]
    }
  ]
}